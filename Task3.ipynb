{
  "nbformat": 4,
  "nbformat_minor": 0,
  "metadata": {
    "kernelspec": {
      "display_name": "Python 3",
      "language": "python",
      "name": "python3"
    },
    "language_info": {
      "codemirror_mode": {
        "name": "ipython",
        "version": 3
      },
      "file_extension": ".py",
      "mimetype": "text/x-python",
      "name": "python",
      "nbconvert_exporter": "python",
      "pygments_lexer": "ipython3",
      "version": "3.7.6"
    },
    "papermill": {
      "duration": 13.308153,
      "end_time": "2020-12-14T09:41:40.325138",
      "environment_variables": {},
      "exception": null,
      "input_path": "__notebook__.ipynb",
      "output_path": "__notebook__.ipynb",
      "parameters": {},
      "start_time": "2020-12-14T09:41:27.016985",
      "version": "2.1.0"
    },
    "colab": {
      "name": "Task3.ipynb",
      "provenance": [],
      "toc_visible": true
    }
  },
  "cells": [
    {
      "cell_type": "markdown",
      "metadata": {
        "papermill": {
          "duration": 0.010806,
          "end_time": "2020-12-14T09:41:32.778026",
          "exception": false,
          "start_time": "2020-12-14T09:41:32.767220",
          "status": "completed"
        },
        "tags": [],
        "id": "madbZusltXo5"
      },
      "source": [
        "# Task 3\n",
        "\n"
      ]
    },
    {
      "cell_type": "code",
      "metadata": {
        "id": "N5bgrErvt8hS",
        "colab": {
          "base_uri": "https://localhost:8080/"
        },
        "outputId": "ebbec5ec-e578-48e4-935d-5f8ce7c905ec"
      },
      "source": [
        "from google.colab import drive\n",
        "drive.mount('/content/drive')"
      ],
      "execution_count": 3,
      "outputs": [
        {
          "output_type": "stream",
          "text": [
            "Drive already mounted at /content/drive; to attempt to forcibly remount, call drive.mount(\"/content/drive\", force_remount=True).\n"
          ],
          "name": "stdout"
        }
      ]
    },
    {
      "cell_type": "code",
      "metadata": {
        "colab": {
          "base_uri": "https://localhost:8080/"
        },
        "id": "y-PDpmM9ybdQ",
        "outputId": "04f4b8b4-a127-4af1-e10d-7f9c96d43b49"
      },
      "source": [
        "!pip install xgboost\n",
        "!pip install catboost"
      ],
      "execution_count": 4,
      "outputs": [
        {
          "output_type": "stream",
          "text": [
            "Requirement already satisfied: xgboost in /usr/local/lib/python3.7/dist-packages (0.90)\n",
            "Requirement already satisfied: scipy in /usr/local/lib/python3.7/dist-packages (from xgboost) (1.4.1)\n",
            "Requirement already satisfied: numpy in /usr/local/lib/python3.7/dist-packages (from xgboost) (1.19.5)\n",
            "Requirement already satisfied: catboost in /usr/local/lib/python3.7/dist-packages (0.25.1)\n",
            "Requirement already satisfied: graphviz in /usr/local/lib/python3.7/dist-packages (from catboost) (0.10.1)\n",
            "Requirement already satisfied: matplotlib in /usr/local/lib/python3.7/dist-packages (from catboost) (3.2.2)\n",
            "Requirement already satisfied: scipy in /usr/local/lib/python3.7/dist-packages (from catboost) (1.4.1)\n",
            "Requirement already satisfied: pandas>=0.24.0 in /usr/local/lib/python3.7/dist-packages (from catboost) (1.1.5)\n",
            "Requirement already satisfied: six in /usr/local/lib/python3.7/dist-packages (from catboost) (1.15.0)\n",
            "Requirement already satisfied: plotly in /usr/local/lib/python3.7/dist-packages (from catboost) (4.4.1)\n",
            "Requirement already satisfied: numpy>=1.16.0 in /usr/local/lib/python3.7/dist-packages (from catboost) (1.19.5)\n",
            "Requirement already satisfied: cycler>=0.10 in /usr/local/lib/python3.7/dist-packages (from matplotlib->catboost) (0.10.0)\n",
            "Requirement already satisfied: kiwisolver>=1.0.1 in /usr/local/lib/python3.7/dist-packages (from matplotlib->catboost) (1.3.1)\n",
            "Requirement already satisfied: pyparsing!=2.0.4,!=2.1.2,!=2.1.6,>=2.0.1 in /usr/local/lib/python3.7/dist-packages (from matplotlib->catboost) (2.4.7)\n",
            "Requirement already satisfied: python-dateutil>=2.1 in /usr/local/lib/python3.7/dist-packages (from matplotlib->catboost) (2.8.1)\n",
            "Requirement already satisfied: pytz>=2017.2 in /usr/local/lib/python3.7/dist-packages (from pandas>=0.24.0->catboost) (2018.9)\n",
            "Requirement already satisfied: retrying>=1.3.3 in /usr/local/lib/python3.7/dist-packages (from plotly->catboost) (1.3.3)\n"
          ],
          "name": "stdout"
        }
      ]
    },
    {
      "cell_type": "code",
      "metadata": {
        "execution": {
          "iopub.execute_input": "2020-12-14T09:41:32.808236Z",
          "iopub.status.busy": "2020-12-14T09:41:32.807457Z",
          "iopub.status.idle": "2020-12-14T09:41:35.010811Z",
          "shell.execute_reply": "2020-12-14T09:41:35.009898Z"
        },
        "papermill": {
          "duration": 2.221436,
          "end_time": "2020-12-14T09:41:35.010945",
          "exception": false,
          "start_time": "2020-12-14T09:41:32.789509",
          "status": "completed"
        },
        "tags": [],
        "id": "AfwqxiLltXpR"
      },
      "source": [
        "import numpy as np \n",
        "import pandas as pd \n",
        "import re \n",
        "import nltk \n",
        "from sklearn import preprocessing\n",
        "from sklearn.model_selection import train_test_split\n",
        "from sklearn.feature_extraction.text import CountVectorizer\n",
        "from sklearn.naive_bayes import MultinomialNB\n",
        "from sklearn.linear_model import LogisticRegression\n",
        "from sklearn.naive_bayes import GaussianNB\n",
        "from sklearn.svm import SVC\n",
        "from sklearn.linear_model import SGDClassifier\n",
        "from sklearn import tree\n",
        "from sklearn.ensemble import RandomForestClassifier\n",
        "from sklearn.ensemble import AdaBoostClassifier\n",
        "from sklearn.ensemble import GradientBoostingClassifier\n",
        "from sklearn.discriminant_analysis import LinearDiscriminantAnalysis\n",
        "from sklearn.discriminant_analysis import QuadraticDiscriminantAnalysis\n",
        "from sklearn.ensemble import StackingClassifier\n",
        "from sklearn.ensemble import VotingClassifier\n",
        "from sklearn.model_selection import cross_val_score\n",
        "import xgboost as xgb\n",
        "import catboost as cb\n",
        "import lightgbm as lgb\n",
        "from sklearn.metrics import classification_report\n",
        "from sklearn.feature_extraction.text import TfidfVectorizer"
      ],
      "execution_count": 18,
      "outputs": []
    },
    {
      "cell_type": "code",
      "metadata": {
        "execution": {
          "iopub.execute_input": "2020-12-14T09:41:35.047090Z",
          "iopub.status.busy": "2020-12-14T09:41:35.041008Z",
          "iopub.status.idle": "2020-12-14T09:41:35.050016Z",
          "shell.execute_reply": "2020-12-14T09:41:35.050718Z"
        },
        "papermill": {
          "duration": 0.02986,
          "end_time": "2020-12-14T09:41:35.050881",
          "exception": false,
          "start_time": "2020-12-14T09:41:35.021021",
          "status": "completed"
        },
        "tags": [],
        "id": "eunx5Be1tXpU"
      },
      "source": [
        "\n",
        "def preprocess_string(str_arg):\n",
        "\n",
        "    cleaned_str=re.sub('[^a-z\\s]+',' ',str_arg,flags=re.IGNORECASE) \n",
        "    cleaned_str=re.sub('(\\s+)',' ',cleaned_str) \n",
        "    cleaned_str=cleaned_str.lower() \n",
        "    \n",
        "    return cleaned_str "
      ],
      "execution_count": 6,
      "outputs": []
    },
    {
      "cell_type": "code",
      "metadata": {
        "execution": {
          "iopub.execute_input": "2020-12-14T09:41:35.094601Z",
          "iopub.status.busy": "2020-12-14T09:41:35.093777Z",
          "iopub.status.idle": "2020-12-14T09:41:37.761389Z",
          "shell.execute_reply": "2020-12-14T09:41:37.760172Z"
        },
        "papermill": {
          "duration": 2.700399,
          "end_time": "2020-12-14T09:41:37.761575",
          "exception": false,
          "start_time": "2020-12-14T09:41:35.061176",
          "status": "completed"
        },
        "tags": [],
        "id": "d21riGJrtXpV",
        "colab": {
          "base_uri": "https://localhost:8080/"
        },
        "outputId": "e4b7dcb7-b369-4650-c15e-82a89006c02a"
      },
      "source": [
        "\n",
        "import_df = pd.read_csv('/content/flipkart_com-ecommerce_sample - flipkart_com-ecommerce_sample - flipkart_com-ecommerce_sample.csv')\n",
        "import_df['product_category_tree'] = import_df['product_category_tree'].apply(lambda x : x.split('>>')[0][2:].strip())\n",
        "top_fiv_gen = list(import_df.groupby('product_category_tree').count().sort_values(by='uniq_id',ascending=False).head(5).index)\n",
        "processed_df = import_df[import_df['product_category_tree'].isin(top_fiv_gen)][['product_category_tree','description']]\n",
        "processed_df['description'] = processed_df['description'].astype('str').apply(preprocess_string)\n",
        "cat_list = list(processed_df['product_category_tree'].unique())\n",
        "print(cat_list)\n",
        "le = preprocessing.LabelEncoder()\n",
        "category_encoded=le.fit_transform(processed_df['product_category_tree'])\n",
        "processed_df['product_category_tree'] = category_encoded\n"
      ],
      "execution_count": 7,
      "outputs": [
        {
          "output_type": "stream",
          "text": [
            "['Clothing', 'Footwear', 'Automotive', 'Mobiles & Accessories', 'Jewellery']\n"
          ],
          "name": "stdout"
        }
      ]
    },
    {
      "cell_type": "code",
      "metadata": {
        "execution": {
          "iopub.execute_input": "2020-12-14T09:41:37.795772Z",
          "iopub.status.busy": "2020-12-14T09:41:37.794935Z",
          "iopub.status.idle": "2020-12-14T09:41:37.799774Z",
          "shell.execute_reply": "2020-12-14T09:41:37.799036Z"
        },
        "papermill": {
          "duration": 0.025992,
          "end_time": "2020-12-14T09:41:37.799914",
          "exception": false,
          "start_time": "2020-12-14T09:41:37.773922",
          "status": "completed"
        },
        "tags": [],
        "id": "BrSWbYy8tXpa"
      },
      "source": [
        "X_train, X_test, y_train, y_test = train_test_split(processed_df['description'],processed_df['product_category_tree'],test_size=0.2)"
      ],
      "execution_count": 8,
      "outputs": []
    },
    {
      "cell_type": "code",
      "metadata": {
        "execution": {
          "iopub.execute_input": "2020-12-14T09:41:37.848409Z",
          "iopub.status.busy": "2020-12-14T09:41:37.842755Z",
          "iopub.status.idle": "2020-12-14T09:41:38.713210Z",
          "shell.execute_reply": "2020-12-14T09:41:38.712390Z"
        },
        "papermill": {
          "duration": 0.902211,
          "end_time": "2020-12-14T09:41:38.713344",
          "exception": false,
          "start_time": "2020-12-14T09:41:37.811133",
          "status": "completed"
        },
        "tags": [],
        "id": "M5WMTvaUtXpb"
      },
      "source": [
        "vect = CountVectorizer(stop_words = 'english')\n",
        "# Removing stop words\n",
        "X_train_matrix = vect.fit_transform(X_train) \n",
        "# Converting the train data"
      ],
      "execution_count": 9,
      "outputs": []
    },
    {
      "cell_type": "code",
      "metadata": {
        "colab": {
          "base_uri": "https://localhost:8080/"
        },
        "id": "-7Lu7VD1xHh_",
        "outputId": "b9373afd-005d-435c-d370-d530bfaf2ca5"
      },
      "source": [
        "clf=LogisticRegression(random_state=0)\n",
        "clf.fit(X_train_matrix, y_train) \n",
        "print(clf.score(X_train_matrix, y_train))\n",
        "X_test_matrix = vect.transform(X_test) \n",
        "print (clf.score(X_test_matrix, y_test))\n",
        "predicted_result=clf.predict(X_test_matrix)\n",
        "print(classification_report(y_test,predicted_result))"
      ],
      "execution_count": 9,
      "outputs": [
        {
          "output_type": "stream",
          "text": [
            "/usr/local/lib/python3.7/dist-packages/sklearn/linear_model/_logistic.py:940: ConvergenceWarning: lbfgs failed to converge (status=1):\n",
            "STOP: TOTAL NO. of ITERATIONS REACHED LIMIT.\n",
            "\n",
            "Increase the number of iterations (max_iter) or scale the data as shown in:\n",
            "    https://scikit-learn.org/stable/modules/preprocessing.html\n",
            "Please also refer to the documentation for alternative solver options:\n",
            "    https://scikit-learn.org/stable/modules/linear_model.html#logistic-regression\n",
            "  extra_warning_msg=_LOGISTIC_SOLVER_CONVERGENCE_MSG)\n"
          ],
          "name": "stderr"
        },
        {
          "output_type": "stream",
          "text": [
            "0.9999043336841098\n",
            "0.9984697781178271\n",
            "              precision    recall  f1-score   support\n",
            "\n",
            "           0       1.00      0.99      0.99       211\n",
            "           1       1.00      1.00      1.00      1219\n",
            "           2       1.00      1.00      1.00       247\n",
            "           3       1.00      1.00      1.00       694\n",
            "           4       0.99      1.00      0.99       243\n",
            "\n",
            "    accuracy                           1.00      2614\n",
            "   macro avg       1.00      1.00      1.00      2614\n",
            "weighted avg       1.00      1.00      1.00      2614\n",
            "\n"
          ],
          "name": "stdout"
        }
      ]
    },
    {
      "cell_type": "code",
      "metadata": {
        "colab": {
          "base_uri": "https://localhost:8080/"
        },
        "id": "i8bq0DcyxHly",
        "outputId": "5980e8ad-f75d-4546-cb4c-a5e90b2a0d71"
      },
      "source": [
        "clf=SVC(gamma='auto')\n",
        "clf.fit(X_train_matrix, y_train) \n",
        "print(clf.score(X_train_matrix, y_train))\n",
        "X_test_matrix = vect.transform(X_test) \n",
        "print (clf.score(X_test_matrix, y_test))\n",
        "predicted_result=clf.predict(X_test_matrix)\n",
        "print(classification_report(y_test,predicted_result))"
      ],
      "execution_count": 10,
      "outputs": [
        {
          "output_type": "stream",
          "text": [
            "0.8774514493446858\n",
            "0.868018362662586\n",
            "              precision    recall  f1-score   support\n",
            "\n",
            "           0       1.00      0.82      0.90       211\n",
            "           1       0.91      0.99      0.95      1219\n",
            "           2       1.00      0.25      0.40       247\n",
            "           3       0.74      0.96      0.84       694\n",
            "           4       1.00      0.67      0.81       243\n",
            "\n",
            "    accuracy                           0.87      2614\n",
            "   macro avg       0.93      0.74      0.78      2614\n",
            "weighted avg       0.89      0.87      0.85      2614\n",
            "\n"
          ],
          "name": "stdout"
        }
      ]
    },
    {
      "cell_type": "code",
      "metadata": {
        "colab": {
          "base_uri": "https://localhost:8080/"
        },
        "id": "g8-272zCxHps",
        "outputId": "91a633ea-3302-4bab-a31d-4fbb9f762fa1"
      },
      "source": [
        "clf=tree.DecisionTreeClassifier()\n",
        "clf.fit(X_train_matrix, y_train) \n",
        "print(clf.score(X_train_matrix, y_train))\n",
        "X_test_matrix = vect.transform(X_test) \n",
        "print (clf.score(X_test_matrix, y_test))\n",
        "predicted_result=clf.predict(X_test_matrix)\n",
        "print(classification_report(y_test,predicted_result))"
      ],
      "execution_count": 11,
      "outputs": [
        {
          "output_type": "stream",
          "text": [
            "1.0\n",
            "0.9892884468247896\n",
            "              precision    recall  f1-score   support\n",
            "\n",
            "           0       0.97      0.97      0.97       211\n",
            "           1       0.99      1.00      0.99      1219\n",
            "           2       1.00      0.96      0.98       247\n",
            "           3       1.00      1.00      1.00       694\n",
            "           4       0.98      0.98      0.98       243\n",
            "\n",
            "    accuracy                           0.99      2614\n",
            "   macro avg       0.99      0.98      0.98      2614\n",
            "weighted avg       0.99      0.99      0.99      2614\n",
            "\n"
          ],
          "name": "stdout"
        }
      ]
    },
    {
      "cell_type": "code",
      "metadata": {
        "colab": {
          "base_uri": "https://localhost:8080/"
        },
        "id": "h9CaH0olxHtQ",
        "outputId": "ac47d308-7ab9-4a47-e43c-4bf1de51c639"
      },
      "source": [
        "clf=RandomForestClassifier(n_estimators=10)\n",
        "clf.fit(X_train_matrix, y_train) \n",
        "print(clf.score(X_train_matrix, y_train))\n",
        "X_test_matrix = vect.transform(X_test) \n",
        "print (clf.score(X_test_matrix, y_test))\n",
        "predicted_result=clf.predict(X_test_matrix)\n",
        "print(classification_report(y_test,predicted_result))"
      ],
      "execution_count": 12,
      "outputs": [
        {
          "output_type": "stream",
          "text": [
            "0.9996173347364393\n",
            "0.9934965570007651\n",
            "              precision    recall  f1-score   support\n",
            "\n",
            "           0       1.00      0.98      0.99       211\n",
            "           1       0.99      1.00      1.00      1219\n",
            "           2       1.00      0.98      0.99       247\n",
            "           3       1.00      1.00      1.00       694\n",
            "           4       0.99      0.98      0.98       243\n",
            "\n",
            "    accuracy                           0.99      2614\n",
            "   macro avg       0.99      0.99      0.99      2614\n",
            "weighted avg       0.99      0.99      0.99      2614\n",
            "\n"
          ],
          "name": "stdout"
        }
      ]
    },
    {
      "cell_type": "code",
      "metadata": {
        "colab": {
          "base_uri": "https://localhost:8080/"
        },
        "id": "YUT-5PMJxH15",
        "outputId": "b3506756-dcd8-4bb3-da27-9b88946ca42b"
      },
      "source": [
        "clf=AdaBoostClassifier(n_estimators=100, random_state=0)\n",
        "clf.fit(X_train_matrix, y_train) \n",
        "print(clf.score(X_train_matrix, y_train))\n",
        "X_test_matrix = vect.transform(X_test) \n",
        "print (clf.score(X_test_matrix, y_test))\n",
        "predicted_result=clf.predict(X_test_matrix)\n",
        "print(classification_report(y_test,predicted_result))"
      ],
      "execution_count": 13,
      "outputs": [
        {
          "output_type": "stream",
          "text": [
            "0.9652731273318664\n",
            "0.9567712318286151\n",
            "              precision    recall  f1-score   support\n",
            "\n",
            "           0       0.98      0.89      0.93       211\n",
            "           1       0.96      0.97      0.97      1219\n",
            "           2       0.93      0.91      0.92       247\n",
            "           3       1.00      0.96      0.98       694\n",
            "           4       0.85      0.98      0.91       243\n",
            "\n",
            "    accuracy                           0.96      2614\n",
            "   macro avg       0.94      0.94      0.94      2614\n",
            "weighted avg       0.96      0.96      0.96      2614\n",
            "\n"
          ],
          "name": "stdout"
        }
      ]
    },
    {
      "cell_type": "code",
      "metadata": {
        "colab": {
          "base_uri": "https://localhost:8080/"
        },
        "id": "y6JUVh35xH4t",
        "outputId": "ea11fd60-2d66-4042-861c-b7271c1e8fef"
      },
      "source": [
        "clf=GradientBoostingClassifier(random_state=0)\n",
        "clf.fit(X_train_matrix, y_train) \n",
        "print(clf.score(X_train_matrix, y_train))\n",
        "X_test_matrix = vect.transform(X_test) \n",
        "print (clf.score(X_test_matrix, y_test))\n",
        "predicted_result=clf.predict(X_test_matrix)\n",
        "print(classification_report(y_test,predicted_result))"
      ],
      "execution_count": 14,
      "outputs": [
        {
          "output_type": "stream",
          "text": [
            "0.9998086673682196\n",
            "0.9927314460596787\n",
            "              precision    recall  f1-score   support\n",
            "\n",
            "           0       0.99      0.99      0.99       211\n",
            "           1       0.99      1.00      1.00      1219\n",
            "           2       1.00      0.96      0.98       247\n",
            "           3       0.99      1.00      0.99       694\n",
            "           4       1.00      0.98      0.99       243\n",
            "\n",
            "    accuracy                           0.99      2614\n",
            "   macro avg       0.99      0.99      0.99      2614\n",
            "weighted avg       0.99      0.99      0.99      2614\n",
            "\n"
          ],
          "name": "stdout"
        }
      ]
    },
    {
      "cell_type": "code",
      "metadata": {
        "colab": {
          "base_uri": "https://localhost:8080/"
        },
        "id": "7bDhUzqVxYAZ",
        "outputId": "ca06f006-d2fb-4daa-ce98-958cd4937fdd"
      },
      "source": [
        "clf=xgb.XGBClassifier()\n",
        "clf.fit(X_train_matrix, y_train) \n",
        "print(clf.score(X_train_matrix, y_train))\n",
        "X_test_matrix = vect.transform(X_test) \n",
        "print (clf.score(X_test_matrix, y_test))\n",
        "predicted_result=clf.predict(X_test_matrix)\n",
        "print(classification_report(y_test,predicted_result))"
      ],
      "execution_count": 17,
      "outputs": [
        {
          "output_type": "stream",
          "text": [
            "0.9937816894671386\n",
            "0.9892884468247896\n",
            "              precision    recall  f1-score   support\n",
            "\n",
            "           0       1.00      0.99      0.99       211\n",
            "           1       0.99      1.00      0.99      1219\n",
            "           2       1.00      0.93      0.96       247\n",
            "           3       0.98      1.00      0.99       694\n",
            "           4       0.99      0.98      0.99       243\n",
            "\n",
            "    accuracy                           0.99      2614\n",
            "   macro avg       0.99      0.98      0.99      2614\n",
            "weighted avg       0.99      0.99      0.99      2614\n",
            "\n"
          ],
          "name": "stdout"
        }
      ]
    },
    {
      "cell_type": "code",
      "metadata": {
        "colab": {
          "base_uri": "https://localhost:8080/"
        },
        "id": "w_w2oTtUxIea",
        "outputId": "b5c7f20d-1088-4acf-87d3-2f63bf152508"
      },
      "source": [
        "clf=cb.CatBoostClassifier(depth = 9, reg_lambda=0.1,\n",
        "                         learning_rate = 0.09, \n",
        "                         iterations = 10)\n",
        "clf.fit(X_train_matrix, y_train) \n",
        "print(clf.score(X_train_matrix, y_train))\n",
        "X_test_matrix = vect.transform(X_test) \n",
        "print (clf.score(X_test_matrix, y_test))\n",
        "predicted_result=clf.predict(X_test_matrix)\n",
        "print(classification_report(y_test,predicted_result))"
      ],
      "execution_count": 19,
      "outputs": [
        {
          "output_type": "stream",
          "text": [
            "0:\tlearn: 1.3621149\ttotal: 1.06s\tremaining: 9.54s\n",
            "1:\tlearn: 1.1805097\ttotal: 2.11s\tremaining: 8.45s\n",
            "2:\tlearn: 1.0375134\ttotal: 3.18s\tremaining: 7.43s\n",
            "3:\tlearn: 0.9239949\ttotal: 4.25s\tremaining: 6.37s\n",
            "4:\tlearn: 0.8335002\ttotal: 5.29s\tremaining: 5.29s\n",
            "5:\tlearn: 0.7551269\ttotal: 6.34s\tremaining: 4.23s\n",
            "6:\tlearn: 0.6888891\ttotal: 7.39s\tremaining: 3.17s\n",
            "7:\tlearn: 0.6366908\ttotal: 8.48s\tremaining: 2.12s\n",
            "8:\tlearn: 0.5849202\ttotal: 9.53s\tremaining: 1.06s\n",
            "9:\tlearn: 0.5400902\ttotal: 10.6s\tremaining: 0us\n",
            "0.9529321725820339\n",
            "0.9441469013006886\n",
            "              precision    recall  f1-score   support\n",
            "\n",
            "           0       0.94      0.94      0.94       211\n",
            "           1       0.94      1.00      0.97      1219\n",
            "           2       1.00      0.71      0.83       247\n",
            "           3       0.94      0.96      0.95       694\n",
            "           4       0.96      0.88      0.92       243\n",
            "\n",
            "    accuracy                           0.94      2614\n",
            "   macro avg       0.96      0.90      0.92      2614\n",
            "weighted avg       0.95      0.94      0.94      2614\n",
            "\n"
          ],
          "name": "stdout"
        }
      ]
    },
    {
      "cell_type": "code",
      "metadata": {
        "id": "sIpqrIJW1f4r"
      },
      "source": [
        "from sklearn.ensemble import RandomForestClassifier\n",
        "from sklearn.svm import LinearSVC\n",
        "from sklearn.linear_model import LogisticRegression\n",
        "from sklearn.preprocessing import StandardScaler\n",
        "from sklearn.pipeline import make_pipeline\n",
        "from sklearn.ensemble import StackingClassifier\n",
        "estimators = [\n",
        "    ('rf', RandomForestClassifier(n_estimators=10, random_state=42)),\n",
        "    ('svr', make_pipeline(StandardScaler(),\n",
        "                        LinearSVC(random_state=42)))\n",
        " ]\n",
        "clf = StackingClassifier(\n",
        "     estimators=estimators, final_estimator=LogisticRegression()\n",
        " )\n",
        "from sklearn.model_selection import train_test_split\n",
        "X_train, X_test, y_train, y_test = train_test_split(\n",
        "X_train_matrix, y_train, stratify= y_train, random_state=42\n",
        ")\n",
        "clf.fit(X_train, y_train).score(X_test, y_test)"
      ],
      "execution_count": null,
      "outputs": []
    },
    {
      "cell_type": "code",
      "metadata": {
        "colab": {
          "base_uri": "https://localhost:8080/"
        },
        "id": "QMGRTykh0ZMe",
        "outputId": "a719391e-60d6-436f-cea7-b2e1d16da767"
      },
      "source": [
        "clf1 = LogisticRegression(random_state=1)\n",
        "clf2 = RandomForestClassifier(n_estimators=50, random_state=1)\n",
        "clf3 = GaussianNB()\n",
        "clf = VotingClassifier(\n",
        "       estimators=[('lr', clf1), ('rf', clf2), ('gnb', clf3)],\n",
        "       voting='hard')\n",
        "for clf, label in zip([clf1, clf2, clf3, clf], ['Logistic Regression', 'Random Forest', 'naive Bayes', 'Ensemble']):\n",
        "\n",
        "\n",
        "  scores = cross_val_score(clf, X_train_matrix, y_train, scoring='accuracy', cv=5)\n",
        "  print(\"Accuracy: %0.2f (+/- %0.2f) [%s]\" % (scores.mean(), scores.std(), label))"
      ],
      "execution_count": 20,
      "outputs": [
        {
          "output_type": "stream",
          "text": [
            "/usr/local/lib/python3.7/dist-packages/sklearn/linear_model/_logistic.py:940: ConvergenceWarning: lbfgs failed to converge (status=1):\n",
            "STOP: TOTAL NO. of ITERATIONS REACHED LIMIT.\n",
            "\n",
            "Increase the number of iterations (max_iter) or scale the data as shown in:\n",
            "    https://scikit-learn.org/stable/modules/preprocessing.html\n",
            "Please also refer to the documentation for alternative solver options:\n",
            "    https://scikit-learn.org/stable/modules/linear_model.html#logistic-regression\n",
            "  extra_warning_msg=_LOGISTIC_SOLVER_CONVERGENCE_MSG)\n",
            "/usr/local/lib/python3.7/dist-packages/sklearn/linear_model/_logistic.py:940: ConvergenceWarning: lbfgs failed to converge (status=1):\n",
            "STOP: TOTAL NO. of ITERATIONS REACHED LIMIT.\n",
            "\n",
            "Increase the number of iterations (max_iter) or scale the data as shown in:\n",
            "    https://scikit-learn.org/stable/modules/preprocessing.html\n",
            "Please also refer to the documentation for alternative solver options:\n",
            "    https://scikit-learn.org/stable/modules/linear_model.html#logistic-regression\n",
            "  extra_warning_msg=_LOGISTIC_SOLVER_CONVERGENCE_MSG)\n"
          ],
          "name": "stderr"
        },
        {
          "output_type": "stream",
          "text": [
            "Accuracy: 1.00 (+/- 0.00) [Logistic Regression]\n",
            "Accuracy: 0.99 (+/- 0.00) [Random Forest]\n",
            "Accuracy: nan (+/- nan) [naive Bayes]\n"
          ],
          "name": "stdout"
        },
        {
          "output_type": "stream",
          "text": [
            "/usr/local/lib/python3.7/dist-packages/sklearn/model_selection/_validation.py:536: FitFailedWarning: Estimator fit failed. The score on this train-test partition for these parameters will be set to nan. Details: \n",
            "TypeError: A sparse matrix was passed, but dense data is required. Use X.toarray() to convert to a dense numpy array.\n",
            "\n",
            "  FitFailedWarning)\n",
            "/usr/local/lib/python3.7/dist-packages/sklearn/model_selection/_validation.py:536: FitFailedWarning: Estimator fit failed. The score on this train-test partition for these parameters will be set to nan. Details: \n",
            "TypeError: A sparse matrix was passed, but dense data is required. Use X.toarray() to convert to a dense numpy array.\n",
            "\n",
            "  FitFailedWarning)\n",
            "/usr/local/lib/python3.7/dist-packages/sklearn/model_selection/_validation.py:536: FitFailedWarning: Estimator fit failed. The score on this train-test partition for these parameters will be set to nan. Details: \n",
            "TypeError: A sparse matrix was passed, but dense data is required. Use X.toarray() to convert to a dense numpy array.\n",
            "\n",
            "  FitFailedWarning)\n",
            "/usr/local/lib/python3.7/dist-packages/sklearn/linear_model/_logistic.py:940: ConvergenceWarning: lbfgs failed to converge (status=1):\n",
            "STOP: TOTAL NO. of ITERATIONS REACHED LIMIT.\n",
            "\n",
            "Increase the number of iterations (max_iter) or scale the data as shown in:\n",
            "    https://scikit-learn.org/stable/modules/preprocessing.html\n",
            "Please also refer to the documentation for alternative solver options:\n",
            "    https://scikit-learn.org/stable/modules/linear_model.html#logistic-regression\n",
            "  extra_warning_msg=_LOGISTIC_SOLVER_CONVERGENCE_MSG)\n",
            "/usr/local/lib/python3.7/dist-packages/sklearn/model_selection/_validation.py:536: FitFailedWarning: Estimator fit failed. The score on this train-test partition for these parameters will be set to nan. Details: \n",
            "TypeError: A sparse matrix was passed, but dense data is required. Use X.toarray() to convert to a dense numpy array.\n",
            "\n",
            "  FitFailedWarning)\n",
            "/usr/local/lib/python3.7/dist-packages/sklearn/model_selection/_validation.py:536: FitFailedWarning: Estimator fit failed. The score on this train-test partition for these parameters will be set to nan. Details: \n",
            "TypeError: A sparse matrix was passed, but dense data is required. Use X.toarray() to convert to a dense numpy array.\n",
            "\n",
            "  FitFailedWarning)\n",
            "/usr/local/lib/python3.7/dist-packages/sklearn/linear_model/_logistic.py:940: ConvergenceWarning: lbfgs failed to converge (status=1):\n",
            "STOP: TOTAL NO. of ITERATIONS REACHED LIMIT.\n",
            "\n",
            "Increase the number of iterations (max_iter) or scale the data as shown in:\n",
            "    https://scikit-learn.org/stable/modules/preprocessing.html\n",
            "Please also refer to the documentation for alternative solver options:\n",
            "    https://scikit-learn.org/stable/modules/linear_model.html#logistic-regression\n",
            "  extra_warning_msg=_LOGISTIC_SOLVER_CONVERGENCE_MSG)\n"
          ],
          "name": "stderr"
        },
        {
          "output_type": "stream",
          "text": [
            "Accuracy: nan (+/- nan) [Ensemble]\n"
          ],
          "name": "stdout"
        },
        {
          "output_type": "stream",
          "text": [
            "/usr/local/lib/python3.7/dist-packages/sklearn/model_selection/_validation.py:536: FitFailedWarning: Estimator fit failed. The score on this train-test partition for these parameters will be set to nan. Details: \n",
            "TypeError: A sparse matrix was passed, but dense data is required. Use X.toarray() to convert to a dense numpy array.\n",
            "\n",
            "  FitFailedWarning)\n"
          ],
          "name": "stderr"
        }
      ]
    },
    {
      "cell_type": "code",
      "metadata": {
        "execution": {
          "iopub.execute_input": "2020-12-14T09:41:38.743656Z",
          "iopub.status.busy": "2020-12-14T09:41:38.742785Z",
          "iopub.status.idle": "2020-12-14T09:41:38.977070Z",
          "shell.execute_reply": "2020-12-14T09:41:38.976295Z"
        },
        "papermill": {
          "duration": 0.252972,
          "end_time": "2020-12-14T09:41:38.977199",
          "exception": false,
          "start_time": "2020-12-14T09:41:38.724227",
          "status": "completed"
        },
        "tags": [],
        "id": "f2EBZ1tFtXpd",
        "colab": {
          "base_uri": "https://localhost:8080/"
        },
        "outputId": "4d49344a-b69b-4d59-8d51-e09fc95a5bf8"
      },
      "source": [
        "clf=MultinomialNB()\n",
        "clf.fit(X_train_matrix, y_train) \n",
        "print(clf.score(X_train_matrix, y_train))\n",
        "X_test_matrix = vect.transform(X_test) \n",
        "print (clf.score(X_test_matrix, y_test))\n",
        "predicted_result=clf.predict(X_test_matrix)\n",
        "print(classification_report(y_test,predicted_result))"
      ],
      "execution_count": 10,
      "outputs": [
        {
          "output_type": "stream",
          "text": [
            "0.9919640294652253\n",
            "0.9923488905891354\n",
            "              precision    recall  f1-score   support\n",
            "\n",
            "           0       1.00      1.00      1.00       204\n",
            "           1       1.00      1.00      1.00      1278\n",
            "           2       0.98      0.98      0.98       240\n",
            "           3       0.98      1.00      0.99       694\n",
            "           4       0.99      0.94      0.97       198\n",
            "\n",
            "    accuracy                           0.99      2614\n",
            "   macro avg       0.99      0.98      0.99      2614\n",
            "weighted avg       0.99      0.99      0.99      2614\n",
            "\n"
          ],
          "name": "stdout"
        }
      ]
    },
    {
      "cell_type": "code",
      "metadata": {
        "id": "TVuEJTia0kbK"
      },
      "source": [
        ""
      ],
      "execution_count": null,
      "outputs": []
    }
  ]
}