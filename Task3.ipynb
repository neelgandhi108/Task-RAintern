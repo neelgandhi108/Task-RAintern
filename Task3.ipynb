{
  "nbformat": 4,
  "nbformat_minor": 0,
  "metadata": {
    "kernelspec": {
      "display_name": "Python 3",
      "language": "python",
      "name": "python3"
    },
    "language_info": {
      "codemirror_mode": {
        "name": "ipython",
        "version": 3
      },
      "file_extension": ".py",
      "mimetype": "text/x-python",
      "name": "python",
      "nbconvert_exporter": "python",
      "pygments_lexer": "ipython3",
      "version": "3.7.6"
    },
    "papermill": {
      "duration": 13.308153,
      "end_time": "2020-12-14T09:41:40.325138",
      "environment_variables": {},
      "exception": null,
      "input_path": "__notebook__.ipynb",
      "output_path": "__notebook__.ipynb",
      "parameters": {},
      "start_time": "2020-12-14T09:41:27.016985",
      "version": "2.1.0"
    },
    "colab": {
      "name": "Task3.ipynb",
      "provenance": [],
      "toc_visible": true
    }
  },
  "cells": [
    {
      "cell_type": "markdown",
      "metadata": {
        "papermill": {
          "duration": 0.010806,
          "end_time": "2020-12-14T09:41:32.778026",
          "exception": false,
          "start_time": "2020-12-14T09:41:32.767220",
          "status": "completed"
        },
        "tags": [],
        "id": "madbZusltXo5"
      },
      "source": [
        "# Task 3\n",
        "\n"
      ]
    },
    {
      "cell_type": "code",
      "metadata": {
        "id": "N5bgrErvt8hS"
      },
      "source": [
        "from google.colab import drive\n",
        "drive.mount('/content/drive')"
      ],
      "execution_count": null,
      "outputs": []
    },
    {
      "cell_type": "code",
      "metadata": {
        "execution": {
          "iopub.execute_input": "2020-12-14T09:41:32.808236Z",
          "iopub.status.busy": "2020-12-14T09:41:32.807457Z",
          "iopub.status.idle": "2020-12-14T09:41:35.010811Z",
          "shell.execute_reply": "2020-12-14T09:41:35.009898Z"
        },
        "papermill": {
          "duration": 2.221436,
          "end_time": "2020-12-14T09:41:35.010945",
          "exception": false,
          "start_time": "2020-12-14T09:41:32.789509",
          "status": "completed"
        },
        "tags": [],
        "id": "AfwqxiLltXpR"
      },
      "source": [
        "import numpy as np \n",
        "import pandas as pd \n",
        "import re \n",
        "import nltk \n",
        "from sklearn import preprocessing\n",
        "from sklearn.model_selection import train_test_split\n",
        "from sklearn.feature_extraction.text import CountVectorizer\n",
        "from sklearn.naive_bayes import MultinomialNB\n",
        "from sklearn.metrics import classification_report\n",
        "from sklearn.feature_extraction.text import TfidfVectorizer"
      ],
      "execution_count": null,
      "outputs": []
    },
    {
      "cell_type": "code",
      "metadata": {
        "execution": {
          "iopub.execute_input": "2020-12-14T09:41:35.047090Z",
          "iopub.status.busy": "2020-12-14T09:41:35.041008Z",
          "iopub.status.idle": "2020-12-14T09:41:35.050016Z",
          "shell.execute_reply": "2020-12-14T09:41:35.050718Z"
        },
        "papermill": {
          "duration": 0.02986,
          "end_time": "2020-12-14T09:41:35.050881",
          "exception": false,
          "start_time": "2020-12-14T09:41:35.021021",
          "status": "completed"
        },
        "tags": [],
        "id": "eunx5Be1tXpU"
      },
      "source": [
        "\n",
        "def preprocess_string(str_arg):\n",
        "\n",
        "    cleaned_str=re.sub('[^a-z\\s]+',' ',str_arg,flags=re.IGNORECASE) #every char except alphabets is replaced\n",
        "    cleaned_str=re.sub('(\\s+)',' ',cleaned_str) #multiple spaces are replaced by single space\n",
        "    cleaned_str=cleaned_str.lower() #converting the cleaned string to lower case\n",
        "    \n",
        "    return cleaned_str # Returning the preprocessed string in tokenized form"
      ],
      "execution_count": null,
      "outputs": []
    },
    {
      "cell_type": "code",
      "metadata": {
        "execution": {
          "iopub.execute_input": "2020-12-14T09:41:35.094601Z",
          "iopub.status.busy": "2020-12-14T09:41:35.093777Z",
          "iopub.status.idle": "2020-12-14T09:41:37.761389Z",
          "shell.execute_reply": "2020-12-14T09:41:37.760172Z"
        },
        "papermill": {
          "duration": 2.700399,
          "end_time": "2020-12-14T09:41:37.761575",
          "exception": false,
          "start_time": "2020-12-14T09:41:35.061176",
          "status": "completed"
        },
        "tags": [],
        "id": "d21riGJrtXpV",
        "outputId": "f98c58a5-3e44-4268-a51f-5357071110cd"
      },
      "source": [
        "\n",
        "import_df = pd.read_csv('/content/drive/flipkart-products/flipkart_com-ecommerce_sample.csv')\n",
        "# Reading relevant data\n",
        "import_df['product_category_tree'] = import_df['product_category_tree'].apply(lambda x : x.split('>>')[0][2:].strip())\n",
        "# Category processing. (Check data to understand)\n",
        "top_fiv_gen = list(import_df.groupby('product_category_tree').count().sort_values(by='uniq_id',ascending=False).head(5).index)\n",
        "# Taking only top 5 categories for example sake\n",
        "processed_df = import_df[import_df['product_category_tree'].isin(top_fiv_gen)][['product_category_tree','description']]\n",
        "# Selecting only relevant columns\n",
        "processed_df['description'] = processed_df['description'].astype('str').apply(preprocess_string)\n",
        "# Cleaning strings\n",
        "cat_list = list(processed_df['product_category_tree'].unique())\n",
        "# Creating a list of categories for later use\n",
        "print(cat_list)\n",
        "# Printing the list of top 5 categories\n",
        "le = preprocessing.LabelEncoder()\n",
        "category_encoded=le.fit_transform(processed_df['product_category_tree'])\n",
        "processed_df['product_category_tree'] = category_encoded\n",
        "# Encoding the product category"
      ],
      "execution_count": null,
      "outputs": [
        {
          "output_type": "stream",
          "text": [
            "['Clothing', 'Footwear', 'Automotive', 'Mobiles & Accessories', 'Jewellery']\n"
          ],
          "name": "stdout"
        }
      ]
    },
    {
      "cell_type": "code",
      "metadata": {
        "execution": {
          "iopub.execute_input": "2020-12-14T09:41:37.795772Z",
          "iopub.status.busy": "2020-12-14T09:41:37.794935Z",
          "iopub.status.idle": "2020-12-14T09:41:37.799774Z",
          "shell.execute_reply": "2020-12-14T09:41:37.799036Z"
        },
        "papermill": {
          "duration": 0.025992,
          "end_time": "2020-12-14T09:41:37.799914",
          "exception": false,
          "start_time": "2020-12-14T09:41:37.773922",
          "status": "completed"
        },
        "tags": [],
        "id": "BrSWbYy8tXpa"
      },
      "source": [
        "X_train, X_test, y_train, y_test = train_test_split(processed_df['description'],processed_df['product_category_tree'],test_size=0.2)"
      ],
      "execution_count": null,
      "outputs": []
    },
    {
      "cell_type": "code",
      "metadata": {
        "execution": {
          "iopub.execute_input": "2020-12-14T09:41:37.848409Z",
          "iopub.status.busy": "2020-12-14T09:41:37.842755Z",
          "iopub.status.idle": "2020-12-14T09:41:38.713210Z",
          "shell.execute_reply": "2020-12-14T09:41:38.712390Z"
        },
        "papermill": {
          "duration": 0.902211,
          "end_time": "2020-12-14T09:41:38.713344",
          "exception": false,
          "start_time": "2020-12-14T09:41:37.811133",
          "status": "completed"
        },
        "tags": [],
        "id": "M5WMTvaUtXpb"
      },
      "source": [
        "vect = CountVectorizer(stop_words = 'english')\n",
        "# Removing stop words\n",
        "X_train_matrix = vect.fit_transform(X_train) \n",
        "# Converting the train data"
      ],
      "execution_count": null,
      "outputs": []
    },
    {
      "cell_type": "code",
      "metadata": {
        "execution": {
          "iopub.execute_input": "2020-12-14T09:41:38.743656Z",
          "iopub.status.busy": "2020-12-14T09:41:38.742785Z",
          "iopub.status.idle": "2020-12-14T09:41:38.977070Z",
          "shell.execute_reply": "2020-12-14T09:41:38.976295Z"
        },
        "papermill": {
          "duration": 0.252972,
          "end_time": "2020-12-14T09:41:38.977199",
          "exception": false,
          "start_time": "2020-12-14T09:41:38.724227",
          "status": "completed"
        },
        "tags": [],
        "id": "f2EBZ1tFtXpd",
        "outputId": "e1f5329e-1c0d-4c46-c70a-18218cd505ea"
      },
      "source": [
        "clf=MultinomialNB()\n",
        "# Defining model\n",
        "clf.fit(X_train_matrix, y_train)\n",
        "# Fitting to multinomial NB model \n",
        "print(clf.score(X_train_matrix, y_train))\n",
        "# Scoring the trained model (Expected to be above 95 percent)\n",
        "X_test_matrix = vect.transform(X_test) \n",
        "# Converting the test data\n",
        "print (clf.score(X_test_matrix, y_test))\n",
        "# Scoring for the test data\n",
        "predicted_result=clf.predict(X_test_matrix)\n",
        "print(classification_report(y_test,predicted_result))\n",
        "# Printing score "
      ],
      "execution_count": null,
      "outputs": [
        {
          "output_type": "stream",
          "text": [
            "0.9921553620970056\n",
            "0.9904361132364193\n",
            "              precision    recall  f1-score   support\n",
            "\n",
            "           0       0.99      0.99      0.99       189\n",
            "           1       1.00      0.99      1.00      1229\n",
            "           2       0.96      1.00      0.98       247\n",
            "           3       0.98      1.00      0.99       716\n",
            "           4       1.00      0.94      0.97       233\n",
            "\n",
            "    accuracy                           0.99      2614\n",
            "   macro avg       0.99      0.98      0.99      2614\n",
            "weighted avg       0.99      0.99      0.99      2614\n",
            "\n"
          ],
          "name": "stdout"
        }
      ]
    },
    {
      "cell_type": "code",
      "metadata": {
        "execution": {
          "iopub.execute_input": "2020-12-14T09:41:39.056751Z",
          "iopub.status.busy": "2020-12-14T09:41:39.025262Z",
          "iopub.status.idle": "2020-12-14T09:41:39.879269Z",
          "shell.execute_reply": "2020-12-14T09:41:39.878607Z"
        },
        "papermill": {
          "duration": 0.890293,
          "end_time": "2020-12-14T09:41:39.879409",
          "exception": false,
          "start_time": "2020-12-14T09:41:38.989116",
          "status": "completed"
        },
        "tags": [],
        "id": "WXzA6JeItXpf"
      },
      "source": [
        "vectorizer = TfidfVectorizer(stop_words = 'english')\n",
        "# Removing stop words\n",
        "X_train_tfidf = vectorizer.fit_transform(X_train)\n",
        "# Converting the train data"
      ],
      "execution_count": null,
      "outputs": []
    },
    {
      "cell_type": "code",
      "metadata": {
        "execution": {
          "iopub.execute_input": "2020-12-14T09:41:39.911894Z",
          "iopub.status.busy": "2020-12-14T09:41:39.910749Z",
          "iopub.status.idle": "2020-12-14T09:41:40.135493Z",
          "shell.execute_reply": "2020-12-14T09:41:40.134746Z"
        },
        "papermill": {
          "duration": 0.243853,
          "end_time": "2020-12-14T09:41:40.135621",
          "exception": false,
          "start_time": "2020-12-14T09:41:39.891768",
          "status": "completed"
        },
        "tags": [],
        "id": "3ggnPsmDtXpg",
        "outputId": "37b05052-9e90-4635-d07a-39dfe503b067"
      },
      "source": [
        "clf2=MultinomialNB()\n",
        "# Defining model\n",
        "clf2.fit(X_train_tfidf, y_train)\n",
        "# Fitting to multinomial NB model \n",
        "print(clf2.score(X_train_tfidf, y_train))\n",
        "# Scoring the trained model (Expected to be above 95 percent)\n",
        "X_test_tfidf = vectorizer.transform(X_test) \n",
        "# Converting the test data\n",
        "print (clf2.score(X_test_tfidf, y_test))\n",
        "# Printing score "
      ],
      "execution_count": null,
      "outputs": [
        {
          "output_type": "stream",
          "text": [
            "0.9942600210465895\n",
            "0.9869931140015302\n"
          ],
          "name": "stdout"
        }
      ]
    }
  ]
}